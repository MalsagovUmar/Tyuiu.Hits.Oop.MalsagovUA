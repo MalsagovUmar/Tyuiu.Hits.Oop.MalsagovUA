{
 "cells": [
  {
   "cell_type": "markdown",
   "metadata": {},
   "source": [
    "<h1 style=\"color:DodgerBlue\">Понятие полиморфизма</h1>\n",
    "\n",
    "### Понятие полиморфизма в C# с параметрами\n",
    "\n",
    "Полиморфизм в объектно-ориентированном программировании позволяет объектам разных классов обрабатывать одни и те же сообщения по-разному. В C#, полиморфизм часто реализуется через наследование и переопределение методов. Давайте рассмотрим пример с классами `Vehicle`, `Car` и `Motorcycle`, чтобы продемонстрировать, как полиморфизм работает с параметрами.\n",
    "\n",
    "#### Определение классов\n",
    "\n",
    "Сначала определим базовый класс `Vehicle` с виртуальным методом `Drive()`, который принимает параметры. Затем создадим два производных класса: `Car` и `Motorcycle`, которые переопределят этот метод.\n",
    "\n",
    "```csharp\n",
    "// Базовый класс Vehicle с виртуальным методом Drive(), принимающим параметры\n",
    "public class Vehicle\n",
    "{\n",
    "    public virtual void Drive(int speed)\n",
    "    {\n",
    "        Console.WriteLine($\"Транспорт движется {speed} km/h.\");\n",
    "    }\n",
    "}\n",
    "\n",
    "// Производный класс Car, переопределяющий метод Drive()\n",
    "public class Car : Vehicle\n",
    "{\n",
    "    public override void Drive(int speed)\n",
    "    {\n",
    "        Console.WriteLine($\"Автомобиль движется {speed} km/h.\");\n",
    "    }\n",
    "}\n",
    "\n",
    "// Производный класс Motorcycle, также переопределяющий метод Drive()\n",
    "public class Motorcycle : Vehicle\n",
    "{\n",
    "    public override void Drive(int speed)\n",
    "    {\n",
    "        Console.WriteLine($\"Мотоцикл движется {speed} km/h.\");\n",
    "    }\n",
    "}\n",
    "```\n",
    "\n",
    "#### Использование полиморфизма\n",
    "\n",
    "Теперь создадим список объектов типа `Vehicle` и добавим в него экземпляры `Car` и `Motorcycle`. Затем вызовем метод `Drive()` для каждого элемента списка, передавая разные скорости. Это демонстрирует, как полиморфизм позволяет нам работать с объектами разных типов через общий интерфейс, но при этом выполнять различные действия в зависимости от \"реального\" типа объекта.\n",
    "\n",
    "```csharp\n",
    "List<Vehicle> vehicles = new List<Vehicle>\n",
    "{\n",
    "    new Car(),\n",
    "    new Motorcycle(),\n",
    "    new Vehicle() // Добавляем экземпляр базового класса для демонстрации\n",
    "};\n",
    "\n",
    "foreach (var vehicle in vehicles)\n",
    "{\n",
    "    vehicle.Drive(100); // Вызываем метод Drive() \n",
    "}\n",
    "\n",
    "```\n",
    "\n",
    "В результате выполнения этого кода, каждый объект в списке вызывает свою версию метода `Drive()`, демонстрируя, что при работе с объектами через базовый класс (`Vehicle`) можно достичь различных действий в зависимости от \"реального\" типа объекта, даже когда используются разные скорости.\n",
    "\n",
    "Этот пример иллюстрирует ключевое понятие полиморфизма в ООП: возможность работы с объектами разных типов через общий интерфейс или базовый класс, что позволяет писать более гибкий и расширяемый код."
   ]
  },
  {
   "cell_type": "markdown",
   "metadata": {},
   "source": [
    "<h4 style=\"color:DodgerBlue\">Для проверки напишите пример кода на основе классов Vehicle, Car и Motorcycle ниже в блоке:</h4>\n",
    "\n",
    "----"
   ]
  },
  {
   "cell_type": "code",
   "execution_count": null,
   "metadata": {
    "dotnet_interactive": {
     "language": "csharp"
    },
    "polyglot_notebook": {
     "kernelName": "csharp"
    }
   },
   "outputs": [
    {
     "name": "stdout",
     "output_type": "stream",
     "text": [
      "Автомобиль движется 100 km/h.\n",
      "Мотоцикл движется 100 km/h.\n",
      "Транспорт движется 100 km/h.\n",
      "Транспорт движется 100 km/h.\n"
     ]
    }
   ],
   "source": [
    "public class Vehicle\n",
    "{\n",
    "    public virtual void Drive(int speed)\n",
    "    {\n",
    "        Console.WriteLine($\"Транспорт движется {speed} km/h.\");\n",
    "    }\n",
    "}\n",
    "\n",
    "// Производный класс Car, переопределяющий метод Drive()\n",
    "public class Car : Vehicle\n",
    "{\n",
    "    public override void Drive(int speed)\n",
    "    {\n",
    "        Console.WriteLine($\"Автомобиль движется {speed} km/h.\");\n",
    "    }\n",
    "}\n",
    "\n",
    "// Производный класс Motorcycle, также переопределяющий метод Drive()\n",
    "public class Motorcycle : Vehicle\n",
    "{\n",
    "    public override void Drive(int speed)\n",
    "    {\n",
    "        Console.WriteLine($\"Мотоцикл движется {speed} km/h.\");\n",
    "    }\n",
    "}\n",
    "\n",
    "List<Vehicle> vehicles = new List<Vehicle>\n",
    "{\n",
    "    new Car(),\n",
    "    new Motorcycle(),\n",
    "    new Vehicle() // Добавляем экземпляр базового класса для демонстрации\n",
    "};\n",
    "\n",
    "foreach (var vehicle in vehicles)\n",
    "{\n",
    "    vehicle.Drive(100); // Вызываем метод Drive() \n",
    "}\n",
    "\n",
    "Vehicle myVehicle = new Vehicle();\n",
    "myVehicle.Drive(100);"
   ]
  },
  {
   "cell_type": "markdown",
   "metadata": {},
   "source": [
    "<h4 style=\"color:Red\">Задание:</h4>\n",
    "\n",
    "----\n",
    "\n",
    "Ниже в блоке по примеру создайте базовый класс Animal и производные классы (3-4 например Dog, Cat, Bird и так далее) реализуйте структуру и объявление класса, включая свойства, геттеры и сеттеры, а также механизм полиморфизм."
   ]
  },
  {
   "cell_type": "code",
   "execution_count": null,
   "metadata": {
    "dotnet_interactive": {
     "language": "csharp"
    },
    "polyglot_notebook": {
     "kernelName": "csharp"
    }
   },
   "outputs": [
    {
     "name": "stdout",
     "output_type": "stream",
     "text": [
      "Гав-гав\n",
      "Dog по имени Рекс, возраст: 5\n",
      "Мяу-мяу\n",
      "Cat по имени Мурка, возраст: 3\n",
      "Чик-чирик\n",
      "Bird по имени Кеша, возраст: 1\n",
      "Рекс приносит палку!\n",
      "Мурка точит когти!\n",
      "Кеша взлетает в небо!\n"
     ]
    }
   ],
   "source": [
    "public abstract class Animal\n",
    "{\n",
    "    private string _name;\n",
    "    private int _age;\n",
    "    \n",
    "    public Animal(string name, int age)\n",
    "    {\n",
    "        Name = name;\n",
    "        Age = age;\n",
    "    }\n",
    "\n",
    "    public string Name\n",
    "    {\n",
    "        get { return _name; }\n",
    "        set { _name = value; }\n",
    "    }\n",
    "\n",
    "    public int Age\n",
    "    {\n",
    "        get { return _age; }\n",
    "        set \n",
    "        { \n",
    "            if (value >= 0)\n",
    "                _age = value;\n",
    "            else\n",
    "                throw new ArgumentException(\"Возраст не может быть отрицательным\");\n",
    "        }\n",
    "    }\n",
    "\n",
    "    public abstract string MakeSound();\n",
    "\n",
    "    public string Info()\n",
    "    {\n",
    "        return $\"{GetType().Name} по имени {Name}, возраст: {Age}\";\n",
    "    }\n",
    "}\n",
    "\n",
    "public class Dog : Animal\n",
    "{\n",
    "    public Dog(string name, int age) : base(name, age) {}\n",
    "\n",
    "    public override string MakeSound()\n",
    "    {\n",
    "        return \"Гав-гав\";\n",
    "    }\n",
    "\n",
    "    public string Fetch()\n",
    "    {\n",
    "        return $\"{Name} приносит палку!\";\n",
    "    }\n",
    "}\n",
    "\n",
    "public class Cat : Animal\n",
    "{\n",
    "    public Cat(string name, int age) : base(name, age) {}\n",
    "\n",
    "    public override string MakeSound()\n",
    "    {\n",
    "        return \"Мяу-мяу\";\n",
    "    }\n",
    "\n",
    "    public string Scratch()\n",
    "    {\n",
    "        return $\"{Name} точит когти!\";\n",
    "    }\n",
    "}\n",
    "\n",
    "public class Bird : Animal\n",
    "{\n",
    "    public Bird(string name, int age) : base(name, age) {}\n",
    "\n",
    "    public override string MakeSound()\n",
    "    {\n",
    "        return \"Чик-чирик\";\n",
    "    }\n",
    "\n",
    "    public string Fly()\n",
    "    {\n",
    "        return $\"{Name} взлетает в небо!\";\n",
    "    }\n",
    "}\n",
    "\n",
    "public static void AnimalSound(Animal animal)\n",
    "{\n",
    "    Console.WriteLine(animal.MakeSound());\n",
    "    Console.WriteLine(animal.Info());\n",
    "}\n",
    "\n",
    "Dog dog = new Dog(\"Рекс\", 5);\n",
    "Cat cat = new Cat(\"Мурка\", 3);\n",
    "Bird bird = new Bird(\"Кеша\", 1);\n",
    "\n",
    "AnimalSound(dog);\n",
    "AnimalSound(cat);\n",
    "AnimalSound(bird); \n",
    "\n",
    "Console.WriteLine(dog.Fetch());\n",
    "Console.WriteLine(cat.Scratch());\n",
    "Console.WriteLine(bird.Fly());\n"
   ]
  }
 ],
 "metadata": {
  "kernelspec": {
   "display_name": ".NET (C#)",
   "language": "C#",
   "name": ".net-csharp"
  },
  "polyglot_notebook": {
   "kernelInfo": {
    "defaultKernelName": "csharp",
    "items": [
     {
      "aliases": [],
      "languageName": "csharp",
      "name": "csharp"
     }
    ]
   }
  }
 },
 "nbformat": 4,
 "nbformat_minor": 2
}
