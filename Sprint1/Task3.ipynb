{
 "cells": [
  {
   "cell_type": "markdown",
   "metadata": {},
   "source": [
    "<h1 style=\"color:DodgerBlue\">Индивидальный проект</h1>"
   ]
  },
  {
   "cell_type": "markdown",
   "metadata": {},
   "source": [
    "<h2 style=\"color:DodgerBlue\">Название проекта:</h2>\n",
    "\n",
    "----\n",
    "\n",
    "### Вариант задания №10\n"
   ]
  },
  {
   "cell_type": "markdown",
   "metadata": {},
   "source": [
    "<h2 style=\"color:DodgerBlue\">Описание проекта:</h2>\n",
    "\n",
    "Создать базовый класс Invoice в C#, который будет представлять информацию о фактурах за поставленные товары или оказанные услуги. На основе этого класса разработать 2-3 производных класса, демонстрирующих принципы наследования и полиморфизма. В каждом из классов должны быть реализованы новые атрибуты и методы, а также переопределены некоторые методы базового класса для демонстрации полиморфизма. Требования к базовому классу Invoice: • Атрибуты: Номер фактуры (InvoiceNumber), Дата выдачи (IssueDate), Общая сумма (TotalAmount). • Методы: o o CalculateTotal(): метод для расчета общей суммы по фактуре. o AddLine(LineItem lineItem): метод для добавления позиции в фактуру. o RemoveLine(LineItem lineItem): метод для удаления позиции из фактуры. Требования к производным классам:\n",
    "ТоварнаяФактура (GoodsInvoice): Должна содержать дополнительные атрибуты, такие как Дата поставки (SupplyDate). Метод AddLine() должен быть переопределен для добавления информации о дате поставки товара при добавлении позиции.\n",
    "УслуговаяФактура (ServiceInvoice): Должна содержать дополнительные атрибуты, такие как Дата оказания услуги (ServiceDate). Метод RemoveLine() должен быть переопределен для добавления информации о причине аннулирования услуги при удалении позиции.\n",
    "КомбинированнаяФактура (CombinedInvoice) (если требуется третий класс): Должна содержать дополнительные атрибуты, такие как Наличие возврата (ReturnAllowed). Метод CalculateTotal() должен быть переопределен для учета возможного возврата товара или услуги при расчете общей суммы.\n",
    "\n",
    "\n",
    "#### Дополнительное задание\n",
    "Добавьте к сущестующим классам конструктора классов с использованием гетторов и сетторов и реализуйте взаимодействие объектов между собой"
   ]
  },
  {
   "cell_type": "markdown",
   "metadata": {},
   "source": [
    "<h2 style=\"color:DodgerBlue\">Реализация:</h2>\n",
    "\n",
    "----"
   ]
  },
  {
   "cell_type": "code",
   "execution_count": 1,
   "metadata": {
    "dotnet_interactive": {
     "language": "csharp"
    },
    "polyglot_notebook": {
     "kernelName": "csharp"
    }
   },
   "outputs": [],
   "source": [
    "using System;\n",
    "using System.Collections.Generic;\n",
    "\n",
    "public class LineItem\n",
    "{\n",
    "    public string Description { get; set; }\n",
    "    public int Quantity { get; set; }\n",
    "    public decimal UnitPrice { get; set; }\n",
    "    public decimal Amount => Quantity * UnitPrice;\n",
    "\n",
    "    public LineItem(string description, int quantity, decimal unitPrice)\n",
    "    {\n",
    "        Description = description;\n",
    "        Quantity = quantity;\n",
    "        UnitPrice = unitPrice;\n",
    "    }\n",
    "}\n",
    "\n",
    "public class Invoice\n",
    "{\n",
    "    public int InvoiceNumber { get; set; }\n",
    "    public DateTime IssueDate { get; set; }\n",
    "    public decimal TotalAmount { get; protected set; }\n",
    "\n",
    "    protected List<LineItem> lineItems = new List<LineItem>();\n",
    "\n",
    "    public Invoice(int invoiceNumber, DateTime issueDate)\n",
    "    {\n",
    "        InvoiceNumber = invoiceNumber;\n",
    "        IssueDate = issueDate;\n",
    "    }\n",
    "\n",
    "    public virtual decimal CalculateTotal()\n",
    "    {\n",
    "        TotalAmount = 0;\n",
    "        foreach (var item in lineItems)\n",
    "        {\n",
    "            TotalAmount += item.Amount;\n",
    "        }\n",
    "        return TotalAmount;\n",
    "    }\n",
    "\n",
    "    public virtual void AddLine(LineItem lineItem)\n",
    "    {\n",
    "        lineItems.Add(lineItem);\n",
    "    }\n",
    "\n",
    "    public virtual void RemoveLine(LineItem lineItem)\n",
    "    {\n",
    "        lineItems.Remove(lineItem);\n",
    "    }\n",
    "}\n",
    "\n",
    "public class GoodsInvoice : Invoice\n",
    "{\n",
    "    public DateTime SupplyDate { get; set; }\n",
    "\n",
    "    public GoodsInvoice(int invoiceNumber, DateTime issueDate, DateTime supplyDate)\n",
    "        : base(invoiceNumber, issueDate)\n",
    "    {\n",
    "        SupplyDate = supplyDate;\n",
    "    }\n",
    "\n",
    "    public override void AddLine(LineItem lineItem)\n",
    "    {\n",
    "        base.AddLine(lineItem);\n",
    "        Console.WriteLine($\"Позиция добавлена с датой поставки: {SupplyDate}\");\n",
    "    }\n",
    "}\n",
    "\n",
    "public class ServiceInvoice : Invoice\n",
    "{\n",
    "    public DateTime ServiceDate { get; set; }\n",
    "    public string CancellationReason { get; set; }\n",
    "\n",
    "    public ServiceInvoice(int invoiceNumber, DateTime issueDate, DateTime serviceDate, string cancellationReason)\n",
    "        : base(invoiceNumber, issueDate)\n",
    "    {\n",
    "        ServiceDate = serviceDate;\n",
    "        CancellationReason = cancellationReason;\n",
    "    }\n",
    "\n",
    "    public override void RemoveLine(LineItem lineItem)\n",
    "    {\n",
    "        base.RemoveLine(lineItem);\n",
    "        Console.WriteLine($\"Позиция удалена с услугой, аннулированной по причине: {CancellationReason}\");\n",
    "    }\n",
    "}\n",
    "\n",
    "public class CombinedInvoice : Invoice\n",
    "{\n",
    "    public bool ReturnAllowed { get; set; }\n",
    "\n",
    "    public CombinedInvoice(int invoiceNumber, DateTime issueDate, bool returnAllowed)\n",
    "        : base(invoiceNumber, issueDate)\n",
    "    {\n",
    "        ReturnAllowed = returnAllowed;\n",
    "    }\n",
    "\n",
    "    public override decimal CalculateTotal()\n",
    "    {\n",
    "        decimal total = base.CalculateTotal();\n",
    "        if (ReturnAllowed)\n",
    "        {\n",
    "            // Логика учёта возможного возврата товаров или услуг.\n",
    "        }\n",
    "        return total;\n",
    "    }\n",
    "}\n",
    "\n",
    "class Program\n",
    "{\n",
    "    static void Main(string[] args)\n",
    "    {\n",
    "        GoodsInvoice goodsInvoice = new GoodsInvoice(123, DateTime.Now, DateTime.Now.AddDays(7));\n",
    "        goodsInvoice.AddLine(new LineItem(\"Товар 1\", 5, 100));\n",
    "        goodsInvoice.CalculateTotal();\n",
    "        Console.WriteLine($\"Общая сумма товара: {goodsInvoice.TotalAmount}\");\n",
    "\n",
    "        ServiceInvoice serviceInvoice = new ServiceInvoice(456, DateTime.Now, DateTime.Now.AddDays(1), \"Услуга отменена\");\n",
    "        serviceInvoice.AddLine(new LineItem(\"Услуга 1\", 1, 200));\n",
    "        serviceInvoice.RemoveLine(new LineItem(\"Услуга 1\", 1, 200));\n",
    "\n",
    "        CombinedInvoice combinedInvoice = new CombinedInvoice(789, DateTime.Now, true);\n",
    "        combinedInvoice.AddLine(new LineItem(\"Товар-услуга 1\", 3, 150));\n",
    "        combinedInvoice.AddLine(new LineItem(\"Услуга 2\", 2, 300));\n",
    "        decimal combinedTotal = combinedInvoice.CalculateTotal();\n",
    "        Console.WriteLine($\"Общая сумма комбинированного счета: {combinedTotal}\");\n",
    "    }\n",
    "}\n"
   ]
  }
 ],
 "metadata": {
  "kernelspec": {
   "display_name": ".NET (C#)",
   "language": "C#",
   "name": ".net-csharp"
  },
  "polyglot_notebook": {
   "kernelInfo": {
    "defaultKernelName": "csharp",
    "items": [
     {
      "aliases": [],
      "languageName": "csharp",
      "name": "csharp"
     }
    ]
   }
  }
 },
 "nbformat": 4,
 "nbformat_minor": 2
}
