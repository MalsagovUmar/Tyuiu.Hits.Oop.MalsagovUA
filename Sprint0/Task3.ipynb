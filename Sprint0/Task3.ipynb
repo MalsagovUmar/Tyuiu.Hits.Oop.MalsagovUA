{
 "cells": [
  {
   "cell_type": "markdown",
   "metadata": {},
   "source": [
    "<h1 style=\"color:DodgerBlue\">Индивидальный проект</h1>"
   ]
  },
  {
   "cell_type": "markdown",
   "metadata": {},
   "source": [
    "<h2 style=\"color:DodgerBlue\">Название проекта:</h2>\n",
    "\n",
    "----\n",
    "\n",
    "### Вариант задания №10\n"
   ]
  },
  {
   "cell_type": "markdown",
   "metadata": {},
   "source": [
    "<h2 style=\"color:DodgerBlue\">Описание проекта:</h2>\n",
    "\n",
    "Создать базовый класс Invoice в C#, который будет представлять информацию о\n",
    "фактурах за поставленные товары или оказанные услуги. На основе этого класса\n",
    "разработать 2-3 производных класса, демонстрирующих принципы наследования и\n",
    "полиморфизма. В каждом из классов должны быть реализованы новые атрибуты и\n",
    "методы, а также переопределены некоторые методы базового класса для\n",
    "демонстрации полиморфизма.\n",
    "Требования к базовому классу Invoice:\n",
    "• Атрибуты: Номер фактуры (InvoiceNumber), Дата выдачи (IssueDate), Общая\n",
    "сумма (TotalAmount).\n",
    "• Методы:\n",
    "o\n",
    "o CalculateTotal(): метод для расчета общей суммы по фактуре.\n",
    "o AddLine(LineItem lineItem): метод для добавления позиции в фактуру.\n",
    "o RemoveLine(LineItem lineItem): метод для удаления позиции из\n",
    "фактуры.\n",
    "Требования к производным классам:\n",
    "1. ТоварнаяФактура (GoodsInvoice): Должна содержать дополнительные\n",
    "атрибуты, такие как Дата поставки (SupplyDate). Метод AddLine() должен\n",
    "быть переопределен для добавления информации о дате поставки товара\n",
    "при добавлении позиции.\n",
    "2. УслуговаяФактура (ServiceInvoice): Должна содержать дополнительные\n",
    "атрибуты, такие как Дата оказания услуги (ServiceDate).\n",
    "Метод RemoveLine() должен быть переопределен для добавления\n",
    "информации о причине аннулирования услуги при удалении позиции.\n",
    "3. КомбинированнаяФактура (CombinedInvoice) (если требуется третий класс):\n",
    "Должна содержать дополнительные атрибуты, такие как Наличие возврата\n",
    "(ReturnAllowed). Метод CalculateTotal() должен быть переопределен для\n",
    "учета возможного возврата товара или услуги при расчете общей суммы.\n",
    "\n"
   ]
  },
  {
   "cell_type": "markdown",
   "metadata": {},
   "source": [
    "<h2 style=\"color:DodgerBlue\">Реализация:</h2>\n",
    "\n",
    "----"
   ]
  },
  {
   "cell_type": "code",
   "execution_count": 2,
   "metadata": {
    "dotnet_interactive": {
     "language": "csharp"
    },
    "polyglot_notebook": {
     "kernelName": "csharp"
    }
   },
   "outputs": [],
   "source": [
    "public class Invoice\n",
    "{\n",
    "    public int InvoiceNumber { get; set; }\n",
    "    public DateTime IssueDate { get; set; }\n",
    "    public decimal TotalAmount { get; set; }\n",
    "\n",
    "    protected List<LineItem> lineItems = new List<LineItem>();\n",
    "\n",
    "    public virtual decimal CalculateTotal()\n",
    "    {\n",
    "        TotalAmount = 0;\n",
    "        foreach (var item in lineItems)\n",
    "        {\n",
    "            TotalAmount += item.Amount;\n",
    "        }\n",
    "        return TotalAmount;\n",
    "    }\n",
    "\n",
    "    public virtual void AddLine(LineItem lineItem)\n",
    "    {\n",
    "        lineItems.Add(lineItem);\n",
    "    }\n",
    "\n",
    "    public virtual void RemoveLine(LineItem lineItem)\n",
    "    {\n",
    "        lineItems.Remove(lineItem);\n",
    "    }\n",
    "}\n",
    "\n",
    "public class LineItem\n",
    "{\n",
    "    public string Description { get; set; }\n",
    "    public int Quantity { get; set; }\n",
    "    public decimal UnitPrice { get; set; }\n",
    "    public decimal Amount => Quantity * UnitPrice;\n",
    "}\n",
    "\n",
    "public class GoodsInvoice : Invoice\n",
    "{\n",
    "    public DateTime SupplyDate { get; set; }\n",
    "\n",
    "    public override void AddLine(LineItem lineItem)\n",
    "    {\n",
    "        base.AddLine(lineItem);\n",
    "        Console.WriteLine($\"Позиция добавлена с датой поставки: {SupplyDate}\");\n",
    "    }\n",
    "}\n",
    "\n",
    "public class ServiceInvoice : Invoice\n",
    "{\n",
    "    public DateTime ServiceDate { get; set; }\n",
    "    public string CancellationReason { get; set; }\n",
    "\n",
    "    public override void RemoveLine(LineItem lineItem)\n",
    "    {\n",
    "        base.RemoveLine(lineItem);\n",
    "        Console.WriteLine($\"Позиция удалена с услугой, аннулированной по причине: {CancellationReason}\");\n",
    "    }\n",
    "}\n",
    "\n",
    "public class CombinedInvoice : Invoice\n",
    "{\n",
    "    public bool ReturnAllowed { get; set; }\n",
    "\n",
    "    public override decimal CalculateTotal()\n",
    "    {\n",
    "        decimal total = base.CalculateTotal();\n",
    "        if (ReturnAllowed)\n",
    "        {\n",
    "            // Логика учёта возможного возврата товаров или услуг.\n",
    "        }\n",
    "        return total;\n",
    "    }\n",
    "}\n",
    "\n"
   ]
  }
 ],
 "metadata": {
  "kernelspec": {
   "display_name": ".NET (C#)",
   "language": "C#",
   "name": ".net-csharp"
  },
  "polyglot_notebook": {
   "kernelInfo": {
    "defaultKernelName": "csharp",
    "items": [
     {
      "aliases": [],
      "languageName": "csharp",
      "name": "csharp"
     }
    ]
   }
  }
 },
 "nbformat": 4,
 "nbformat_minor": 2
}
